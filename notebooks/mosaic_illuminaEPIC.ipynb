{
 "cells": [
  {
   "cell_type": "code",
   "execution_count": 1,
   "metadata": {},
   "outputs": [],
   "source": [
    "from PIL import Image\n",
    "import os"
   ]
  },
  {
   "cell_type": "code",
   "execution_count": 2,
   "metadata": {},
   "outputs": [],
   "source": [
    "image_dir = r\"C:\\Users\\davide.biganzoli\\OneDrive - Università degli Studi di Milano\\Lavoro\\2024\\Methylation\\207127940135\""
   ]
  },
  {
   "cell_type": "code",
   "execution_count": 3,
   "metadata": {},
   "outputs": [],
   "source": [
    "# Lista dei file immagine\n",
    "image_files = [file for file in os.listdir(image_dir) if file.endswith(('jpg', 'jpeg', 'png'))]"
   ]
  },
  {
   "cell_type": "code",
   "execution_count": 4,
   "metadata": {},
   "outputs": [],
   "source": [
    "# Filtra le immagini per colore e per il primo campione\n",
    "green_images = [file for file in image_files if 'green' in file and 'R01C01' in file]"
   ]
  },
  {
   "cell_type": "code",
   "execution_count": 5,
   "metadata": {},
   "outputs": [],
   "source": [
    "def get_t_value(filename):\n",
    "    # Estrai il valore di T dal nome del file\n",
    "    base_name = os.path.basename(filename)\n",
    "    t_index = base_name.find('_T') + 2\n",
    "    t_value = int(base_name[t_index:t_index+2])  # Assumiamo che T sia seguito da due cifre\n",
    "    return t_value"
   ]
  },
  {
   "cell_type": "code",
   "execution_count": 6,
   "metadata": {},
   "outputs": [],
   "source": [
    "def get_r_value(filename):\n",
    "    # Estrai il valore di R dal nome del file\n",
    "    base_name = os.path.basename(filename)\n",
    "    r_index = base_name.find('_R') + 2\n",
    "    r_value = int(base_name[r_index:r_index+2])  # Assumiamo che R sia seguito da due cifre\n",
    "    return r_value"
   ]
  },
  {
   "cell_type": "code",
   "execution_count": 7,
   "metadata": {},
   "outputs": [],
   "source": [
    "def get_num_value(filename):\n",
    "    # Estrai il valore del numero verticale dal nome del file\n",
    "    base_name = os.path.basename(filename)\n",
    "    num_part = base_name.split('_')[2]\n",
    "    num_value = int(num_part.split('-')[0])\n",
    "    return num_value"
   ]
  },
  {
   "cell_type": "code",
   "execution_count": 23,
   "metadata": {},
   "outputs": [],
   "source": [
    "def create_mosaic(image_list, output_path, vertical_shift_percent=0.5, horizontal_shift_percent=0.048):\n",
    "    # Ordina le immagini in base al nome per mantenere l'ordine\n",
    "    image_list.sort(key=lambda x: (get_num_value(x), get_t_value(x)))\n",
    "\n",
    "    # Apri tutte le immagini\n",
    "    images = []\n",
    "    for img_file in image_list:\n",
    "        try:\n",
    "            img = Image.open(os.path.join(image_dir, img_file))\n",
    "            img.verify()  # Verifica l'integrità dell'immagine\n",
    "            img = Image.open(os.path.join(image_dir, img_file))  # Ri-apri l'immagine dopo verifica\n",
    "            img.load()  # Carica i dati dell'immagine\n",
    "            images.append(img)\n",
    "        except (IOError, SyntaxError) as e:\n",
    "            print(f\"Immagine {img_file} corrotta o non valida: {e}\")\n",
    "            continue\n",
    "\n",
    "    # Assumi che tutte le immagini abbiano la stessa dimensione\n",
    "    if not images:\n",
    "        print(\"Nessuna immagine valida trovata.\")\n",
    "        return\n",
    "\n",
    "    img_width, img_height = images[0].size\n",
    "    vertical_overlap = int(img_height * vertical_shift_percent)  # Sovrapposizione verticale personalizzata\n",
    "    horizontal_overlap = int(img_width * horizontal_shift_percent)  # Sovrapposizione orizzontale personalizzata\n",
    "\n",
    "    # Determina il numero di righe e colonne\n",
    "    num_rows = len(set(get_num_value(img) for img in image_list))\n",
    "    num_cols = 13  # Numero di colonne per ogni shift di T\n",
    "\n",
    "    # Crea una nuova immagine grande abbastanza per contenere tutte le altre\n",
    "    mosaic_width = img_width * num_cols - horizontal_overlap * (num_cols - 1)\n",
    "    mosaic_height = img_height * num_rows - vertical_overlap * (num_rows - 1)\n",
    "    mosaic_image = Image.new('RGB', (mosaic_width, mosaic_height))\n",
    "\n",
    "    # Aggiungi ogni immagine nel mosaico\n",
    "    for img, file in zip(images, image_list):\n",
    "        t_value = get_t_value(file) - 1  # T01 corrisponde alla colonna 0\n",
    "        num_value = get_num_value(file) - 1  # Numero corrisponde allo spostamento verticale\n",
    "        x = t_value * (img_width - horizontal_overlap)\n",
    "        y = num_value * (img_height - vertical_overlap)  # Aggiungi sovrapposizione\n",
    "        mosaic_image.paste(img, (x, y))\n",
    "\n",
    "    # Salva il mosaico\n",
    "    mosaic_image.save(output_path, format='PNG')"
   ]
  },
  {
   "cell_type": "code",
   "execution_count": 24,
   "metadata": {},
   "outputs": [],
   "source": [
    "# Crea il mosaico per le immagini \"green\" del primo campione\n",
    "create_mosaic(green_images, r\"C:\\Users\\davide.biganzoli\\OneDrive - Università degli Studi di Milano\\Lavoro\\2024\\Methylation\\green_mosaic_first_sample.png\")"
   ]
  }
 ],
 "metadata": {
  "kernelspec": {
   "display_name": "Python 3",
   "language": "python",
   "name": "python3"
  },
  "language_info": {
   "codemirror_mode": {
    "name": "ipython",
    "version": 3
   },
   "file_extension": ".py",
   "mimetype": "text/x-python",
   "name": "python",
   "nbconvert_exporter": "python",
   "pygments_lexer": "ipython3",
   "version": "3.12.4"
  }
 },
 "nbformat": 4,
 "nbformat_minor": 2
}
