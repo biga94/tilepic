{
 "cells": [
  {
   "cell_type": "code",
   "execution_count": 11,
   "metadata": {},
   "outputs": [],
   "source": [
    "from PIL import Image, ImageFile\n",
    "import os\n",
    "from concurrent.futures import ThreadPoolExecutor"
   ]
  },
  {
   "cell_type": "code",
   "execution_count": 12,
   "metadata": {},
   "outputs": [],
   "source": [
    "# Aumenta il limite per la dimensione delle immagini per evitare DecompressionBombError\n",
    "Image.MAX_IMAGE_PIXELS = None\n",
    "ImageFile.LOAD_TRUNCATED_IMAGES = True"
   ]
  },
  {
   "cell_type": "code",
   "execution_count": 13,
   "metadata": {},
   "outputs": [],
   "source": [
    "# Directory contenente le immagini\n",
    "image_dir = r\"C:\\Users\\davide.biganzoli\\OneDrive - Università degli Studi di Milano\\Lavoro\\2024\\Methylation\\207127940135\"\n",
    "\n",
    "# Lista dei file immagine\n",
    "image_files = [file for file in os.listdir(image_dir) if file.endswith(('jpg', 'jpeg', 'png'))]"
   ]
  },
  {
   "cell_type": "code",
   "execution_count": 14,
   "metadata": {},
   "outputs": [],
   "source": [
    "def get_t_value(filename):\n",
    "    # Estrai il valore di T dal nome del file\n",
    "    base_name = os.path.basename(filename)\n",
    "    t_index = base_name.find('_T') + 2\n",
    "    t_value = int(base_name[t_index:t_index+2])  # Assumiamo che T sia seguito da due cifre\n",
    "    return t_value\n",
    "\n",
    "def get_num_value(filename):\n",
    "    # Estrai il valore del numero verticale dal nome del file\n",
    "    base_name = os.path.basename(filename)\n",
    "    num_part = base_name.split('_')[2]\n",
    "    num_value = int(num_part.split('-')[0])\n",
    "    return num_value"
   ]
  },
  {
   "cell_type": "code",
   "execution_count": 15,
   "metadata": {},
   "outputs": [],
   "source": [
    "def create_mosaic(image_list, output_path, vertical_shift_percent=0.5, horizontal_shift_percent=0.048):\n",
    "    # Ordina le immagini in base al nome per mantenere l'ordine\n",
    "    image_list.sort(key=lambda x: (get_num_value(x), get_t_value(x)))\n",
    "\n",
    "    # Apri tutte le immagini\n",
    "    images = []\n",
    "    for img_file in image_list:\n",
    "        try:\n",
    "            img = Image.open(os.path.join(image_dir, img_file))\n",
    "            img.verify()  # Verifica l'integrità dell'immagine\n",
    "            img = Image.open(os.path.join(image_dir, img_file))  # Ri-apri l'immagine dopo verifica\n",
    "            img.load()  # Carica i dati dell'immagine\n",
    "            images.append(img)\n",
    "        except (IOError, SyntaxError) as e:\n",
    "            print(f\"Immagine {img_file} corrotta o non valida: {e}\")\n",
    "            continue\n",
    "\n",
    "    # Assumi che tutte le immagini abbiano la stessa dimensione\n",
    "    if not images:\n",
    "        print(\"Nessuna immagine valida trovata.\")\n",
    "        return\n",
    "\n",
    "    img_width, img_height = images[0].size\n",
    "    vertical_overlap = int(img_height * vertical_shift_percent)  # Sovrapposizione verticale personalizzata\n",
    "    horizontal_overlap = int(img_width * horizontal_shift_percent)  # Sovrapposizione orizzontale personalizzata\n",
    "\n",
    "    # Determina il numero di righe e colonne\n",
    "    num_rows = len(set(get_num_value(img) for img in image_list))\n",
    "    num_cols = 13  # Numero di colonne per ogni shift di T\n",
    "\n",
    "    # Crea una nuova immagine grande abbastanza per contenere tutte le altre\n",
    "    mosaic_width = img_width * num_cols - horizontal_overlap * (num_cols - 1)\n",
    "    mosaic_height = img_height * num_rows - vertical_overlap * (num_rows - 1)\n",
    "    mosaic_image = Image.new('RGB', (mosaic_width, mosaic_height))\n",
    "\n",
    "    # Aggiungi ogni immagine nel mosaico\n",
    "    for img, file in zip(images, image_list):\n",
    "        t_value = get_t_value(file) - 1  # T01 corrisponde alla colonna 0\n",
    "        num_value = get_num_value(file) - 1  # Numero corrisponde allo spostamento verticale\n",
    "        x = t_value * (img_width - horizontal_overlap)\n",
    "        y = num_value * (img_height - vertical_overlap)  # Aggiungi sovrapposizione\n",
    "        mosaic_image.paste(img, (x, y))\n",
    "\n",
    "    # Salva il mosaico\n",
    "    mosaic_image.save(output_path, format='PNG')"
   ]
  },
  {
   "cell_type": "code",
   "execution_count": 16,
   "metadata": {},
   "outputs": [],
   "source": [
    "def process_sample(prefix, vertical_shift_percent=0.5, horizontal_shift_percent=0.048):\n",
    "    sample_images = [file for file in image_files if prefix in file and 'green' in file]\n",
    "    mosaic_path = os.path.join(image_dir, f\"{prefix}_mosaic.png\")\n",
    "    create_mosaic(sample_images, mosaic_path, vertical_shift_percent, horizontal_shift_percent)\n",
    "    return mosaic_path"
   ]
  },
  {
   "cell_type": "code",
   "execution_count": 17,
   "metadata": {},
   "outputs": [],
   "source": [
    "def create_final_chip(image_dir, output_path, vertical_shift_percent=0.5, horizontal_shift_percent=0.048):\n",
    "    sample_prefixes = [f\"R0{i}C01\" for i in range(1, 9)]\n",
    "    mosaic_paths = []\n",
    "\n",
    "    # Utilizza ThreadPoolExecutor per parallelizzare la creazione dei mosaici\n",
    "    with ThreadPoolExecutor() as executor:\n",
    "        futures = [executor.submit(process_sample, prefix, vertical_shift_percent, horizontal_shift_percent) for prefix in sample_prefixes]\n",
    "        for future in futures:\n",
    "            mosaic_paths.append(future.result())\n",
    "\n",
    "    # Carica tutti i mosaici\n",
    "    mosaics = [Image.open(mosaic) for mosaic in mosaic_paths]\n",
    "\n",
    "    # Assumi che tutti i mosaici abbiano la stessa larghezza\n",
    "    mosaic_width = mosaics[0].width\n",
    "    mosaic_height = mosaics[0].height\n",
    "\n",
    "    # Crea una nuova immagine per il chip finale\n",
    "    final_chip_height = mosaic_height * len(mosaics)\n",
    "    final_chip_image = Image.new('RGB', (mosaic_width, final_chip_height))\n",
    "\n",
    "    # Aggiungi ogni mosaico al chip finale\n",
    "    for i, mosaic in enumerate(mosaics):\n",
    "        final_chip_image.paste(mosaic, (0, i * mosaic_height))\n",
    "\n",
    "    # Salva il chip finale\n",
    "    final_chip_image.save(output_path, format='PNG')\n"
   ]
  },
  {
   "cell_type": "code",
   "execution_count": 18,
   "metadata": {},
   "outputs": [],
   "source": [
    "# Crea il chip finale unendo tutti i mosaici dei campioni\n",
    "create_final_chip(image_dir, r\"C:\\Users\\davide.biganzoli\\OneDrive - Università degli Studi di Milano\\Lavoro\\2024\\Methylation\\final_chip.png\", vertical_shift_percent=0.5, horizontal_shift_percent=0.048)"
   ]
  }
 ],
 "metadata": {
  "kernelspec": {
   "display_name": "Python 3",
   "language": "python",
   "name": "python3"
  },
  "language_info": {
   "codemirror_mode": {
    "name": "ipython",
    "version": 3
   },
   "file_extension": ".py",
   "mimetype": "text/x-python",
   "name": "python",
   "nbconvert_exporter": "python",
   "pygments_lexer": "ipython3",
   "version": "3.12.4"
  }
 },
 "nbformat": 4,
 "nbformat_minor": 2
}
